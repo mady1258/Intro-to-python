{
  "nbformat": 4,
  "nbformat_minor": 0,
  "metadata": {
    "colab": {
      "name": "codingChalleng3.ipynb",
      "provenance": [],
      "authorship_tag": "ABX9TyN4o4x3UCQPJLgQi49MoeYg",
      "include_colab_link": true
    },
    "kernelspec": {
      "name": "python3",
      "display_name": "Python 3"
    }
  },
  "cells": [
    {
      "cell_type": "markdown",
      "metadata": {
        "id": "view-in-github",
        "colab_type": "text"
      },
      "source": [
        "<a href=\"https://colab.research.google.com/github/mady1258/Intro-to-python/blob/main/codingChalleng3.ipynb\" target=\"_parent\"><img src=\"https://colab.research.google.com/assets/colab-badge.svg\" alt=\"Open In Colab\"/></a>"
      ]
    },
    {
      "cell_type": "code",
      "metadata": {
        "colab": {
          "base_uri": "https://localhost:8080/"
        },
        "id": "ZI-conLhi8g8",
        "outputId": "9104f77a-7069-45bc-cc93-71e6a2d0c9ef"
      },
      "source": [
        "for x in range(1,6):\r\n",
        "  print(\"I am a programmer\")"
      ],
      "execution_count": 2,
      "outputs": [
        {
          "output_type": "stream",
          "text": [
            "I am a programmer\n",
            "I am a programmer\n",
            "I am a programmer\n",
            "I am a programmer\n",
            "I am a programmer\n"
          ],
          "name": "stdout"
        }
      ]
    },
    {
      "cell_type": "code",
      "metadata": {
        "colab": {
          "base_uri": "https://localhost:8080/"
        },
        "id": "UKs5xiVVjK3g",
        "outputId": "e27fac80-99e7-403e-c52c-7e07088fff00"
      },
      "source": [
        "def sqrrange():\r\n",
        "  for x in range(1,10):\r\n",
        "    print(x**2)\r\n",
        "sqrrange()"
      ],
      "execution_count": 4,
      "outputs": [
        {
          "output_type": "stream",
          "text": [
            "1\n",
            "4\n",
            "9\n",
            "16\n",
            "25\n",
            "36\n",
            "49\n",
            "64\n",
            "81\n"
          ],
          "name": "stdout"
        }
      ]
    }
  ]
}