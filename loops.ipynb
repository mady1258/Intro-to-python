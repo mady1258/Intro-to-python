{
  "nbformat": 4,
  "nbformat_minor": 0,
  "metadata": {
    "colab": {
      "name": "loops.ipynb",
      "provenance": [],
      "authorship_tag": "ABX9TyOSHkF9XUDDdiRJJfnldeVF",
      "include_colab_link": true
    },
    "kernelspec": {
      "name": "python3",
      "display_name": "Python 3"
    }
  },
  "cells": [
    {
      "cell_type": "markdown",
      "metadata": {
        "id": "view-in-github",
        "colab_type": "text"
      },
      "source": [
        "<a href=\"https://colab.research.google.com/github/mady1258/Intro-to-python/blob/main/loops.ipynb\" target=\"_parent\"><img src=\"https://colab.research.google.com/assets/colab-badge.svg\" alt=\"Open In Colab\"/></a>"
      ]
    },
    {
      "cell_type": "code",
      "metadata": {
        "colab": {
          "base_uri": "https://localhost:8080/"
        },
        "id": "TcxYheuacwhL",
        "outputId": "d5cd8803-6b27-489d-b826-b95b9033d0f2"
      },
      "source": [
        "#for loops\r\n",
        "for x in range(1,10):\r\n",
        "  print(x)"
      ],
      "execution_count": 2,
      "outputs": [
        {
          "output_type": "stream",
          "text": [
            "1\n",
            "2\n",
            "3\n",
            "4\n",
            "5\n",
            "6\n",
            "7\n",
            "8\n",
            "9\n"
          ],
          "name": "stdout"
        }
      ]
    },
    {
      "cell_type": "code",
      "metadata": {
        "colab": {
          "base_uri": "https://localhost:8080/"
        },
        "id": "pL-nNn0GdRxt",
        "outputId": "bd23a200-907b-46ea-c053-465c44e927db"
      },
      "source": [
        "fruits = [\"Apple\",\"Banana\",\"Orange\",\"Mango\"]\r\n",
        "for x in fruits:\r\n",
        "  print(x)"
      ],
      "execution_count": 3,
      "outputs": [
        {
          "output_type": "stream",
          "text": [
            "Apple\n",
            "Banana\n",
            "Orange\n",
            "Mango\n"
          ],
          "name": "stdout"
        }
      ]
    },
    {
      "cell_type": "code",
      "metadata": {
        "colab": {
          "base_uri": "https://localhost:8080/"
        },
        "id": "7-eUzihDfqU8",
        "outputId": "2abb2e15-3b89-4a47-951b-18034d002dd7"
      },
      "source": [
        "# while loop\r\n",
        "# need a counter\r\n",
        "counter = 0\r\n",
        "while (counter <= 10):\r\n",
        "  print(counter)\r\n",
        "  counter +=1"
      ],
      "execution_count": 6,
      "outputs": [
        {
          "output_type": "stream",
          "text": [
            "0\n",
            "1\n",
            "2\n",
            "3\n",
            "4\n",
            "5\n",
            "6\n",
            "7\n",
            "8\n",
            "9\n",
            "10\n"
          ],
          "name": "stdout"
        }
      ]
    }
  ]
}