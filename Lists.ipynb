{
  "nbformat": 4,
  "nbformat_minor": 0,
  "metadata": {
    "colab": {
      "name": "Lists.ipynb",
      "provenance": [],
      "include_colab_link": true
    },
    "kernelspec": {
      "name": "python3",
      "display_name": "Python 3"
    }
  },
  "cells": [
    {
      "cell_type": "markdown",
      "metadata": {
        "id": "view-in-github",
        "colab_type": "text"
      },
      "source": [
        "<a href=\"https://colab.research.google.com/github/mady1258/Intro-to-python/blob/main/Lists.ipynb\" target=\"_parent\"><img src=\"https://colab.research.google.com/assets/colab-badge.svg\" alt=\"Open In Colab\"/></a>"
      ]
    },
    {
      "cell_type": "code",
      "metadata": {
        "colab": {
          "base_uri": "https://localhost:8080/"
        },
        "id": "LsITdQXxi7dv",
        "outputId": "917dcc9c-24f8-4596-b32f-67c8e4aba7c5"
      },
      "source": [
        "# Check if an item is in a list\r\n",
        "fruits = [\"apple\",\"mango\",\"banana\"]\r\n",
        "print(\"apple\" in fruits)"
      ],
      "execution_count": 2,
      "outputs": [
        {
          "output_type": "stream",
          "text": [
            "True\n"
          ],
          "name": "stdout"
        }
      ]
    },
    {
      "cell_type": "code",
      "metadata": {
        "colab": {
          "base_uri": "https://localhost:8080/"
        },
        "id": "FlcK37GerBUH",
        "outputId": "2fd0fc6f-8d9c-4008-ba5d-888e915ae19c"
      },
      "source": [
        "fruits.append(\"orange\")\r\n",
        "print(len(fruits))"
      ],
      "execution_count": null,
      "outputs": [
        {
          "output_type": "stream",
          "text": [
            "6\n"
          ],
          "name": "stdout"
        }
      ]
    },
    {
      "cell_type": "code",
      "metadata": {
        "colab": {
          "base_uri": "https://localhost:8080/"
        },
        "id": "330ZfcxWrgah",
        "outputId": "630f17d0-1f94-4f87-868e-31903a4b7e97"
      },
      "source": [
        "print(fruits)"
      ],
      "execution_count": null,
      "outputs": [
        {
          "output_type": "stream",
          "text": [
            "['apple', 'mango', 'banana', 'orange', 'orange', 'orange']\n"
          ],
          "name": "stdout"
        }
      ]
    },
    {
      "cell_type": "code",
      "metadata": {
        "id": "MNuivrissDGM"
      },
      "source": [
        "fruits.insert(3,\"coconut\")"
      ],
      "execution_count": null,
      "outputs": []
    },
    {
      "cell_type": "code",
      "metadata": {
        "colab": {
          "base_uri": "https://localhost:8080/"
        },
        "id": "XyHy1r6QsG3y",
        "outputId": "6f90c484-dc81-4c7a-806b-95d40b1a30e5"
      },
      "source": [
        "print(fruits)"
      ],
      "execution_count": 4,
      "outputs": [
        {
          "output_type": "stream",
          "text": [
            "['apple', 'mango', 'banana', 'tacos']\n"
          ],
          "name": "stdout"
        }
      ]
    },
    {
      "cell_type": "code",
      "metadata": {
        "colab": {
          "base_uri": "https://localhost:8080/"
        },
        "id": "1A8xOceJsnG_",
        "outputId": "93eaf9dd-03d7-4ca8-d5f2-c5604589809d"
      },
      "source": [
        "print(fruits.index(\"orange\"))"
      ],
      "execution_count": null,
      "outputs": [
        {
          "output_type": "stream",
          "text": [
            "4\n"
          ],
          "name": "stdout"
        }
      ]
    },
    {
      "cell_type": "code",
      "metadata": {
        "id": "GUO1bhb9hwub"
      },
      "source": [
        "fruits.insert(3,\"tacos\")"
      ],
      "execution_count": 3,
      "outputs": []
    },
    {
      "cell_type": "code",
      "metadata": {
        "id": "TUXyM83KiJPE"
      },
      "source": [
        "fruits.append(\"orange\")"
      ],
      "execution_count": 5,
      "outputs": []
    },
    {
      "cell_type": "code",
      "metadata": {
        "id": "7gpsbOFuiQm9",
        "outputId": "51f41e3d-d313-4417-837d-d1ca5af1dc2c",
        "colab": {
          "base_uri": "https://localhost:8080/"
        }
      },
      "source": [
        "print(fruits[3])"
      ],
      "execution_count": 6,
      "outputs": [
        {
          "output_type": "stream",
          "text": [
            "tacos\n"
          ],
          "name": "stdout"
        }
      ]
    }
  ]
}