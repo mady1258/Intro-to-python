{
  "nbformat": 4,
  "nbformat_minor": 0,
  "metadata": {
    "colab": {
      "name": "Lists.ipynb",
      "provenance": [],
      "authorship_tag": "ABX9TyNlXlXTKoHXDXMQG5Z3rVQl",
      "include_colab_link": true
    },
    "kernelspec": {
      "name": "python3",
      "display_name": "Python 3"
    }
  },
  "cells": [
    {
      "cell_type": "markdown",
      "metadata": {
        "id": "view-in-github",
        "colab_type": "text"
      },
      "source": [
        "<a href=\"https://colab.research.google.com/github/mady1258/Intro-to-python/blob/main/Lists.ipynb\" target=\"_parent\"><img src=\"https://colab.research.google.com/assets/colab-badge.svg\" alt=\"Open In Colab\"/></a>"
      ]
    },
    {
      "cell_type": "code",
      "metadata": {
        "colab": {
          "base_uri": "https://localhost:8080/"
        },
        "id": "LsITdQXxi7dv",
        "outputId": "3dc0fc80-efa2-4cde-f5e8-681786a936e6"
      },
      "source": [
        "# Check if an item is in a list\r\n",
        "fruits = [\"apple\",\"mango\",\"banana\"]\r\n",
        "print(\"apple\" in fruits)"
      ],
      "execution_count": 2,
      "outputs": [
        {
          "output_type": "stream",
          "text": [
            "True\n"
          ],
          "name": "stdout"
        }
      ]
    },
    {
      "cell_type": "code",
      "metadata": {
        "colab": {
          "base_uri": "https://localhost:8080/"
        },
        "id": "FlcK37GerBUH",
        "outputId": "2fd0fc6f-8d9c-4008-ba5d-888e915ae19c"
      },
      "source": [
        "fruits.append(\"orange\")\r\n",
        "print(len(fruits))"
      ],
      "execution_count": 5,
      "outputs": [
        {
          "output_type": "stream",
          "text": [
            "6\n"
          ],
          "name": "stdout"
        }
      ]
    },
    {
      "cell_type": "code",
      "metadata": {
        "colab": {
          "base_uri": "https://localhost:8080/"
        },
        "id": "330ZfcxWrgah",
        "outputId": "630f17d0-1f94-4f87-868e-31903a4b7e97"
      },
      "source": [
        "print(fruits)"
      ],
      "execution_count": 6,
      "outputs": [
        {
          "output_type": "stream",
          "text": [
            "['apple', 'mango', 'banana', 'orange', 'orange', 'orange']\n"
          ],
          "name": "stdout"
        }
      ]
    }
  ]
}