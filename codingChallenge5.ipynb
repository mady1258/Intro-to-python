{
  "nbformat": 4,
  "nbformat_minor": 0,
  "metadata": {
    "colab": {
      "name": "codingChallenge5.ipynb",
      "provenance": [],
      "collapsed_sections": [],
      "authorship_tag": "ABX9TyOGODXDsLEzqo6WUlJdd0CB",
      "include_colab_link": true
    },
    "kernelspec": {
      "name": "python3",
      "display_name": "Python 3"
    }
  },
  "cells": [
    {
      "cell_type": "markdown",
      "metadata": {
        "id": "view-in-github",
        "colab_type": "text"
      },
      "source": [
        "<a href=\"https://colab.research.google.com/github/mady1258/Intro-to-python/blob/main/codingChallenge5.ipynb\" target=\"_parent\"><img src=\"https://colab.research.google.com/assets/colab-badge.svg\" alt=\"Open In Colab\"/></a>"
      ]
    },
    {
      "cell_type": "code",
      "metadata": {
        "colab": {
          "base_uri": "https://localhost:8080/"
        },
        "id": "rQVQz7e1w08I",
        "outputId": "55b03942-c14d-4496-d621-24206afe70bd"
      },
      "source": [
        "##Coding challenge 5 solution\r\n",
        "\r\n",
        "#Solution to coding challenge 5\r\n",
        "\r\n",
        "def divide(a,b):\r\n",
        "    try:\r\n",
        "        return a/b\r\n",
        "    except ZeroDivisionError:\r\n",
        "        print(\"There is a divide by zero error\")\r\n",
        "        return 0\r\n",
        "  \r\n",
        "  \r\n",
        "x = float(input('Enter a number'))\r\n",
        "y = float(input('Enter value by which you want to divide the number'))\r\n",
        "result = divide(x, y)\r\n",
        "print(result)"
      ],
      "execution_count": 3,
      "outputs": [
        {
          "output_type": "stream",
          "text": [
            "Enter a number15\n",
            "Enter value by which you want to divide the number0\n",
            "There is a divide by zero error\n",
            "0\n"
          ],
          "name": "stdout"
        }
      ]
    }
  ]
}