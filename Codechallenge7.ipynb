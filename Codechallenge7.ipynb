{
  "nbformat": 4,
  "nbformat_minor": 0,
  "metadata": {
    "colab": {
      "name": "Codechallenge7.ipynb",
      "provenance": [],
      "authorship_tag": "ABX9TyM3HSAhK8BkHekb1l3N+wYj",
      "include_colab_link": true
    },
    "kernelspec": {
      "name": "python3",
      "display_name": "Python 3"
    }
  },
  "cells": [
    {
      "cell_type": "markdown",
      "metadata": {
        "id": "view-in-github",
        "colab_type": "text"
      },
      "source": [
        "<a href=\"https://colab.research.google.com/github/mady1258/Intro-to-python/blob/main/Codechallenge7.ipynb\" target=\"_parent\"><img src=\"https://colab.research.google.com/assets/colab-badge.svg\" alt=\"Open In Colab\"/></a>"
      ]
    },
    {
      "cell_type": "code",
      "metadata": {
        "id": "9EE17UbvqJRM"
      },
      "source": [
        "newstring = \"Hello there\""
      ],
      "execution_count": 1,
      "outputs": []
    },
    {
      "cell_type": "code",
      "metadata": {
        "id": "ahiF7EjXqR_L"
      },
      "source": [
        "#Write Python code which accepts name of a product and in turn returns their respective prices.\r\n",
        "#Make sure to use dictionaries to store products and their respective prices.\r\n",
        "#The dictionary should include at least 5 elements.\r\n",
        "products = {\r\n",
        "    \"seafood soap\" : 15,\r\n",
        "    \"Salamon Salad\" : 55,\r\n",
        "    \"Lupsters\" : 120,\r\n",
        "    \"Shrimps\" : 199,\r\n",
        "    \"Rice\" : 7\r\n",
        "}"
      ],
      "execution_count": 6,
      "outputs": []
    },
    {
      "cell_type": "code",
      "metadata": {
        "colab": {
          "base_uri": "https://localhost:8080/"
        },
        "id": "2uyXYVb1s1zA",
        "outputId": "17b4cbd3-5782-4e75-e45c-17ae261020eb"
      },
      "source": [
        "products[\"Shrimps\"]"
      ],
      "execution_count": 7,
      "outputs": [
        {
          "output_type": "execute_result",
          "data": {
            "text/plain": [
              "199"
            ]
          },
          "metadata": {
            "tags": []
          },
          "execution_count": 7
        }
      ]
    },
    {
      "cell_type": "code",
      "metadata": {
        "colab": {
          "base_uri": "https://localhost:8080/"
        },
        "id": "JB3ZTDaKtBRK",
        "outputId": "a47b7e01-3713-412f-daa1-d4fa438e54e5"
      },
      "source": [
        "products.get(\"Salamon Salad\")"
      ],
      "execution_count": 8,
      "outputs": [
        {
          "output_type": "execute_result",
          "data": {
            "text/plain": [
              "55"
            ]
          },
          "metadata": {
            "tags": []
          },
          "execution_count": 8
        }
      ]
    },
    {
      "cell_type": "code",
      "metadata": {
        "id": "32kyX85HtpCq"
      },
      "source": [
        "# same but ask user to search for a product\r\n",
        "    products = {\"Chair\":40, \"Sofa\": 500, \"Table\": 90, \"Monitor\": 100 , \"Carpet\": 200}\r\n",
        "    newproduct = input('Enter product name')\r\n",
        "    if(newproduct in products):\r\n",
        "        print(products.get(newproduct))\r\n",
        "    else:\r\n",
        "        print('Product Not Found')"
      ],
      "execution_count": null,
      "outputs": []
    },
    {
      "cell_type": "code",
      "metadata": {
        "colab": {
          "base_uri": "https://localhost:8080/"
        },
        "id": "HadCVMeNqcev",
        "outputId": "41560040-1e99-48f6-d658-dfd8752cb9df"
      },
      "source": [
        "print(newstring)"
      ],
      "execution_count": 3,
      "outputs": [
        {
          "output_type": "stream",
          "text": [
            "Hello there\n"
          ],
          "name": "stdout"
        }
      ]
    }
  ]
}