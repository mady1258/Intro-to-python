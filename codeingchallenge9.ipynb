{
  "nbformat": 4,
  "nbformat_minor": 0,
  "metadata": {
    "colab": {
      "name": "codeingchallenge9.ipynb",
      "provenance": [],
      "authorship_tag": "ABX9TyMrlW1jgJNSn0kTDAi0mrj4",
      "include_colab_link": true
    },
    "kernelspec": {
      "name": "python3",
      "display_name": "Python 3"
    }
  },
  "cells": [
    {
      "cell_type": "markdown",
      "metadata": {
        "id": "view-in-github",
        "colab_type": "text"
      },
      "source": [
        "<a href=\"https://colab.research.google.com/github/mady1258/Intro-to-python/blob/main/codeingchallenge9.ipynb\" target=\"_parent\"><img src=\"https://colab.research.google.com/assets/colab-badge.svg\" alt=\"Open In Colab\"/></a>"
      ]
    },
    {
      "cell_type": "code",
      "metadata": {
        "id": "kOAtqcfjIFdU"
      },
      "source": [
        "#Coding challenge part 9\r\n",
        "\r\n",
        "#Assume you want to build two functions for discounting products on a website.\r\n",
        "#Function number 1 is for student discount which discounts the current price to 10%.\r\n",
        "#Function number 2 is for additional discount for regular buyers which discounts an additional 5% on the current student discounted price.\r\n",
        "#Depending on the situation, we want to be able to apply both the discounts on the products.\r\n",
        "\r\n",
        "#Design the above two mentioned functions and apply them both simultaneously on the price.\r\n",
        "\r\n",
        "def studentdisc(Price):\r\n",
        "  Price = Price*0.9\r\n",
        "  return Price\r\n",
        "\r\n"
      ],
      "execution_count": 9,
      "outputs": []
    },
    {
      "cell_type": "code",
      "metadata": {
        "id": "3H6EYCcXIyrT"
      },
      "source": [
        "def RegStuddisc(Price):\r\n",
        "  Price = studentdisc(Price)*.95\r\n",
        "  return Price"
      ],
      "execution_count": 11,
      "outputs": []
    },
    {
      "cell_type": "code",
      "metadata": {
        "colab": {
          "base_uri": "https://localhost:8080/"
        },
        "id": "ch97yF1eJamh",
        "outputId": "d5a9ed8f-551a-41d1-d5da-6cbabb783679"
      },
      "source": [
        "newPrice = studentdisc(10000)\r\n",
        "print (newPrice)"
      ],
      "execution_count": 10,
      "outputs": [
        {
          "output_type": "stream",
          "text": [
            "9000.0\n"
          ],
          "name": "stdout"
        }
      ]
    },
    {
      "cell_type": "code",
      "metadata": {
        "colab": {
          "base_uri": "https://localhost:8080/"
        },
        "id": "PF3SzdI3K3C2",
        "outputId": "6054c09c-a2a5-488c-e38f-565f53f02a37"
      },
      "source": [
        "newPrice = RegStuddisc(10000)\r\n",
        "print(newPrice)"
      ],
      "execution_count": 13,
      "outputs": [
        {
          "output_type": "stream",
          "text": [
            "8550.0\n"
          ],
          "name": "stdout"
        }
      ]
    },
    {
      "cell_type": "code",
      "metadata": {
        "id": "LrliVeEzLPa3"
      },
      "source": [
        "#another Solution to coding challenge 9\r\n",
        "\r\n",
        "    def student_discount(price):\r\n",
        "        price = price - (price * 10) / 100\r\n",
        "        return price\r\n",
        "     \r\n",
        "    def additional_discount(newprice):\r\n",
        "        newprice = newprice - (newprice * 5) / 100\r\n",
        "        return newprice\r\n",
        "     \r\n",
        "    selling_price = 100\r\n",
        "     \r\n",
        "    #applying both discounts simultaneously\r\n",
        "     \r\n",
        "    print(additional_discount(student_discount(selling_price)))"
      ],
      "execution_count": null,
      "outputs": []
    }
  ]
}