{
  "nbformat": 4,
  "nbformat_minor": 0,
  "metadata": {
    "colab": {
      "name": "conditionalBranching.ipynb",
      "provenance": [],
      "authorship_tag": "ABX9TyNyRlSLzN+DJS5tWIQaKlnJ",
      "include_colab_link": true
    },
    "kernelspec": {
      "name": "python3",
      "display_name": "Python 3"
    }
  },
  "cells": [
    {
      "cell_type": "markdown",
      "metadata": {
        "id": "view-in-github",
        "colab_type": "text"
      },
      "source": [
        "<a href=\"https://colab.research.google.com/github/mady1258/Intro-to-python/blob/main/conditionalBranching.ipynb\" target=\"_parent\"><img src=\"https://colab.research.google.com/assets/colab-badge.svg\" alt=\"Open In Colab\"/></a>"
      ]
    },
    {
      "cell_type": "code",
      "metadata": {
        "colab": {
          "base_uri": "https://localhost:8080/"
        },
        "id": "6HGeSE7Zekft",
        "outputId": "a36bff7e-d20c-49af-94b4-391c2522806c"
      },
      "source": [
        "# if else statement\r\n",
        "\r\n",
        "age = int(input('Enter You age'))\r\n",
        "if age < 18:\r\n",
        "  print('Hello kiddo')\r\n",
        "else:\r\n",
        "  print(\"welcome to adults\\n' section\")"
      ],
      "execution_count": 2,
      "outputs": [
        {
          "output_type": "stream",
          "text": [
            "Enter You age12\n",
            "Hello kiddo\n"
          ],
          "name": "stdout"
        }
      ]
    },
    {
      "cell_type": "code",
      "metadata": {
        "id": "n0jJKNZTf8IH"
      },
      "source": [
        "# elif statement\r\n",
        "\r\n"
      ],
      "execution_count": null,
      "outputs": []
    },
    {
      "cell_type": "markdown",
      "metadata": {
        "id": "EJcxQImmiWvW"
      },
      "source": [
        "# New Section"
      ]
    }
  ]
}