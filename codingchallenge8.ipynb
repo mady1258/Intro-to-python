{
  "nbformat": 4,
  "nbformat_minor": 0,
  "metadata": {
    "colab": {
      "name": "codingchallenge8.ipynb",
      "provenance": [],
      "authorship_tag": "ABX9TyNe26VKQPnpVbXpVadm/XcQ",
      "include_colab_link": true
    },
    "kernelspec": {
      "name": "python3",
      "display_name": "Python 3"
    }
  },
  "cells": [
    {
      "cell_type": "markdown",
      "metadata": {
        "id": "view-in-github",
        "colab_type": "text"
      },
      "source": [
        "<a href=\"https://colab.research.google.com/github/mady1258/Intro-to-python/blob/main/codingchallenge8.ipynb\" target=\"_parent\"><img src=\"https://colab.research.google.com/assets/colab-badge.svg\" alt=\"Open In Colab\"/></a>"
      ]
    },
    {
      "cell_type": "code",
      "metadata": {
        "id": "nr_7vLQVut0L"
      },
      "source": [
        "#List out  all the odd numbers from 1 to 100 using lists in Python.\r\n",
        "odds = list(x for x in range(100)if x % 2 == 1)"
      ],
      "execution_count": 1,
      "outputs": []
    },
    {
      "cell_type": "code",
      "metadata": {
        "colab": {
          "base_uri": "https://localhost:8080/"
        },
        "id": "UuZkd-n0vIQX",
        "outputId": "bfeeff87-39ff-4b33-ee3b-22bc00ee2a8e"
      },
      "source": [
        "print(odds)"
      ],
      "execution_count": 2,
      "outputs": [
        {
          "output_type": "stream",
          "text": [
            "[1, 3, 5, 7, 9, 11, 13, 15, 17, 19, 21, 23, 25, 27, 29, 31, 33, 35, 37, 39, 41, 43, 45, 47, 49, 51, 53, 55, 57, 59, 61, 63, 65, 67, 69, 71, 73, 75, 77, 79, 81, 83, 85, 87, 89, 91, 93, 95, 97, 99]\n"
          ],
          "name": "stdout"
        }
      ]
    },
    {
      "cell_type": "code",
      "metadata": {
        "id": "Pa13MOz3vXcd"
      },
      "source": [
        "# another solution\r\n",
        "\r\n",
        "    new_list = list(range(1, 100))\r\n",
        "     \r\n",
        "    for x in new_list:\r\n",
        "     \r\n",
        "        if x % 2 != 0:\r\n",
        "            print (x)"
      ],
      "execution_count": null,
      "outputs": []
    }
  ]
}