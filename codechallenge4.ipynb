{
  "nbformat": 4,
  "nbformat_minor": 0,
  "metadata": {
    "colab": {
      "name": "codechallenge4.ipynb",
      "provenance": [],
      "authorship_tag": "ABX9TyNP4CcZEOdOfscY41G7nN1D",
      "include_colab_link": true
    },
    "kernelspec": {
      "name": "python3",
      "display_name": "Python 3"
    }
  },
  "cells": [
    {
      "cell_type": "markdown",
      "metadata": {
        "id": "view-in-github",
        "colab_type": "text"
      },
      "source": [
        "<a href=\"https://colab.research.google.com/github/mady1258/Intro-to-python/blob/main/codechallenge4.ipynb\" target=\"_parent\"><img src=\"https://colab.research.google.com/assets/colab-badge.svg\" alt=\"Open In Colab\"/></a>"
      ]
    },
    {
      "cell_type": "code",
      "metadata": {
        "id": "GroSvVsYpAIf"
      },
      "source": [
        "# BMI calculator\r\n",
        "#BMI = (weight in Kg)/(Height in Meters)^2.\r\n",
        "#Write python code which can accept the weight and height of a person and calculate his BMI.\r\n",
        "\r\n",
        "#note: Make sure to use a function which accepts the height and weight values and returns the BMI value.\r\n"
      ],
      "execution_count": null,
      "outputs": []
    },
    {
      "cell_type": "code",
      "metadata": {
        "id": "hArEWXlJpQ-u"
      },
      "source": [
        "def bmiCalc(weight,height):\r\n",
        "  bmi = weight/(height**2)\r\n",
        "  print(bmi)"
      ],
      "execution_count": 1,
      "outputs": []
    },
    {
      "cell_type": "code",
      "metadata": {
        "colab": {
          "base_uri": "https://localhost:8080/"
        },
        "id": "6va7c70NqIhh",
        "outputId": "ca4b1644-3511-4bd6-e0e4-b77cecbe25f9"
      },
      "source": [
        "bmiCalc(88,1.84)"
      ],
      "execution_count": 2,
      "outputs": [
        {
          "output_type": "stream",
          "text": [
            "25.99243856332703\n"
          ],
          "name": "stdout"
        }
      ]
    },
    {
      "cell_type": "code",
      "metadata": {
        "id": "aeyFf29DqpH-"
      },
      "source": [
        "#Solution to coding challenge part 4\r\n",
        "\r\n",
        "\r\n",
        "    def calculate_BMI(new_weight, new_height):\r\n",
        "        new_bmi = new_weight/(pow(new_height, 2))\r\n",
        "        return new_bmi\r\n",
        "     \r\n",
        "    weight = float(input('Enter weight in Kgs'))\r\n",
        "    height = float(input('Enter height in meters'))\r\n",
        "    bmi = calculate_BMI(weight, height)\r\n",
        "    print(bmi)"
      ],
      "execution_count": null,
      "outputs": []
    }
  ]
}