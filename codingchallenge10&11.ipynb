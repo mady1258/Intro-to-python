{
  "nbformat": 4,
  "nbformat_minor": 0,
  "metadata": {
    "colab": {
      "name": "codingchallenge10&11.ipynb",
      "provenance": [],
      "authorship_tag": "ABX9TyOQ0mAPSKMhzD/lb0JJCwxL",
      "include_colab_link": true
    },
    "kernelspec": {
      "name": "python3",
      "display_name": "Python 3"
    }
  },
  "cells": [
    {
      "cell_type": "markdown",
      "metadata": {
        "id": "view-in-github",
        "colab_type": "text"
      },
      "source": [
        "<a href=\"https://colab.research.google.com/github/mady1258/Intro-to-python/blob/main/codingchallenge10%2611.ipynb\" target=\"_parent\"><img src=\"https://colab.research.google.com/assets/colab-badge.svg\" alt=\"Open In Colab\"/></a>"
      ]
    },
    {
      "cell_type": "code",
      "metadata": {
        "colab": {
          "base_uri": "https://localhost:8080/"
        },
        "id": "Sam2xb_tL1SV",
        "outputId": "9ae73629-ce8a-4abf-8574-4f91549dd7be"
      },
      "source": [
        "#Coding challenge part 10 for section 8\r\n",
        "\r\n",
        "#Calculate the value of mathematical expression x*(x+5)^2 where x= 5 using lambda expression.\r\n",
        "\r\n",
        "math = (lambda x: x*(x+5)**2)(5)\r\n",
        "print(math)"
      ],
      "execution_count": 3,
      "outputs": [
        {
          "output_type": "stream",
          "text": [
            "500\n"
          ],
          "name": "stdout"
        }
      ]
    },
    {
      "cell_type": "code",
      "metadata": {
        "colab": {
          "base_uri": "https://localhost:8080/"
        },
        "id": "Q0DAegb0M95l",
        "outputId": "d178c023-21a3-4fec-8aa1-5fd60cee8a45"
      },
      "source": [
        "#Coding challenge 11\r\n",
        "\r\n",
        "#Coding challenge part 11\r\n",
        "\r\n",
        "\r\n",
        "#Consider a list in Python which includes prices of all the items in a store.\r\n",
        "\r\n",
        "#Build a function to discount the price of all the products by 10%.\r\n",
        "\r\n",
        "#Use map to apply the function to all the elements of the list so that all the product prices are discounted.\r\n",
        "\r\n",
        "itemsPrices = [100, 120, 55, 2001, 35, 25, 19]\r\n",
        "def disc(price):\r\n",
        "  price = price*.95\r\n",
        "  return price\r\n",
        "\r\n",
        "discountedprices = list(map(disc,itemsPrices))\r\n",
        "print (discountedprices)"
      ],
      "execution_count": 11,
      "outputs": [
        {
          "output_type": "stream",
          "text": [
            "[95.0, 114.0, 52.25, 1900.9499999999998, 33.25, 23.75, 18.05]\n"
          ],
          "name": "stdout"
        }
      ]
    },
    {
      "cell_type": "code",
      "metadata": {
        "colab": {
          "base_uri": "https://localhost:8080/"
        },
        "id": "DDaHPthzArO7",
        "outputId": "31918b3f-8f7c-4909-dfe3-52038cc8a920"
      },
      "source": [
        "import numpy as np\r\n",
        "\r\n",
        "a = np.array([1,2])\r\n",
        "b = np.array([3,4])\r\n",
        "dot = 0\r\n",
        "\r\n",
        "for e, f in zip(a, b):\r\n",
        "  dot += e*f\r\n",
        "dot\r\n"
      ],
      "execution_count": 6,
      "outputs": [
        {
          "output_type": "execute_result",
          "data": {
            "text/plain": [
              "11"
            ]
          },
          "metadata": {
            "tags": []
          },
          "execution_count": 6
        }
      ]
    },
    {
      "cell_type": "code",
      "metadata": {
        "id": "lMyFKoZ7K1fM"
      },
      "source": [
        "# Matricies\r\n",
        "A = np.array([[1,2],[3,4,]])\r\n",
        "B = np.array([[1,2,3],[4,5,6]])"
      ],
      "execution_count": 9,
      "outputs": []
    },
    {
      "cell_type": "code",
      "metadata": {
        "colab": {
          "base_uri": "https://localhost:8080/"
        },
        "id": "c2ry_S1XLnJ8",
        "outputId": "998c6e68-f85d-43a6-911c-b9fe321b613c"
      },
      "source": [
        "A.dot(B)"
      ],
      "execution_count": 10,
      "outputs": [
        {
          "output_type": "execute_result",
          "data": {
            "text/plain": [
              "array([[ 9, 12, 15],\n",
              "       [19, 26, 33]])"
            ]
          },
          "metadata": {
            "tags": []
          },
          "execution_count": 10
        }
      ]
    },
    {
      "cell_type": "code",
      "metadata": {
        "colab": {
          "base_uri": "https://localhost:8080/"
        },
        "id": "ArnCzvizL7fO",
        "outputId": "08c94b61-5165-46bc-ea59-1d99d0e42684"
      },
      "source": [
        "A@B"
      ],
      "execution_count": 11,
      "outputs": [
        {
          "output_type": "execute_result",
          "data": {
            "text/plain": [
              "array([[ 9, 12, 15],\n",
              "       [19, 26, 33]])"
            ]
          },
          "metadata": {
            "tags": []
          },
          "execution_count": 11
        }
      ]
    },
    {
      "cell_type": "code",
      "metadata": {
        "colab": {
          "base_uri": "https://localhost:8080/"
        },
        "id": "AX7uvGNdUavK",
        "outputId": "fd4f6a46-a4cd-4895-8e57-181446721db3"
      },
      "source": [
        "a = np.arange(0,18,2).reshape(3,3)\r\n",
        "a"
      ],
      "execution_count": 16,
      "outputs": [
        {
          "output_type": "execute_result",
          "data": {
            "text/plain": [
              "array([[ 0,  2,  4],\n",
              "       [ 6,  8, 10],\n",
              "       [12, 14, 16]])"
            ]
          },
          "metadata": {
            "tags": []
          },
          "execution_count": 16
        }
      ]
    },
    {
      "cell_type": "code",
      "metadata": {
        "colab": {
          "base_uri": "https://localhost:8080/",
          "height": 247
        },
        "id": "mRcZQLT8feaA",
        "outputId": "46f27023-39fe-4491-e22d-bc4d4b3a140e"
      },
      "source": [
        "\r\n",
        "\r\n",
        "x = np.arange(-6,6,1)\r\n",
        "x[x<0]=0\r\n",
        "x\r\n",
        "\r\n",
        "..."
      ],
      "execution_count": 1,
      "outputs": [
        {
          "output_type": "error",
          "ename": "NameError",
          "evalue": "ignored",
          "traceback": [
            "\u001b[0;31m---------------------------------------------------------------------------\u001b[0m",
            "\u001b[0;31mNameError\u001b[0m                                 Traceback (most recent call last)",
            "\u001b[0;32m<ipython-input-1-6812ccd10719>\u001b[0m in \u001b[0;36m<module>\u001b[0;34m()\u001b[0m\n\u001b[1;32m      1\u001b[0m \u001b[0;34m...\u001b[0m\u001b[0;34m\u001b[0m\u001b[0;34m\u001b[0m\u001b[0m\n\u001b[0;32m----> 2\u001b[0;31m \u001b[0mx\u001b[0m \u001b[0;34m=\u001b[0m \u001b[0mnp\u001b[0m\u001b[0;34m.\u001b[0m\u001b[0marange\u001b[0m\u001b[0;34m(\u001b[0m\u001b[0;34m-\u001b[0m\u001b[0;36m6\u001b[0m\u001b[0;34m,\u001b[0m\u001b[0;36m6\u001b[0m\u001b[0;34m,\u001b[0m\u001b[0;36m1\u001b[0m\u001b[0;34m)\u001b[0m\u001b[0;34m\u001b[0m\u001b[0;34m\u001b[0m\u001b[0m\n\u001b[0m\u001b[1;32m      3\u001b[0m \u001b[0mx\u001b[0m\u001b[0;34m[\u001b[0m\u001b[0mx\u001b[0m\u001b[0;34m<\u001b[0m\u001b[0;36m0\u001b[0m\u001b[0;34m]\u001b[0m\u001b[0;34m=\u001b[0m\u001b[0;36m0\u001b[0m\u001b[0;34m\u001b[0m\u001b[0;34m\u001b[0m\u001b[0m\n\u001b[1;32m      4\u001b[0m \u001b[0mx\u001b[0m\u001b[0;34m\u001b[0m\u001b[0;34m\u001b[0m\u001b[0m\n\u001b[1;32m      5\u001b[0m \u001b[0;34m...\u001b[0m\u001b[0;34m\u001b[0m\u001b[0;34m\u001b[0m\u001b[0m\n",
            "\u001b[0;31mNameError\u001b[0m: name 'np' is not defined"
          ]
        }
      ]
    }
  ]
}