{
  "nbformat": 4,
  "nbformat_minor": 0,
  "metadata": {
    "colab": {
      "name": "codingchallenge10&11.ipynb",
      "provenance": [],
      "authorship_tag": "ABX9TyPGxi0W2x8eOejxfgupALOo",
      "include_colab_link": true
    },
    "kernelspec": {
      "name": "python3",
      "display_name": "Python 3"
    }
  },
  "cells": [
    {
      "cell_type": "markdown",
      "metadata": {
        "id": "view-in-github",
        "colab_type": "text"
      },
      "source": [
        "<a href=\"https://colab.research.google.com/github/mady1258/Intro-to-python/blob/main/codingchallenge10%2611.ipynb\" target=\"_parent\"><img src=\"https://colab.research.google.com/assets/colab-badge.svg\" alt=\"Open In Colab\"/></a>"
      ]
    },
    {
      "cell_type": "code",
      "metadata": {
        "colab": {
          "base_uri": "https://localhost:8080/"
        },
        "id": "Sam2xb_tL1SV",
        "outputId": "9ae73629-ce8a-4abf-8574-4f91549dd7be"
      },
      "source": [
        "#Coding challenge part 10 for section 8\r\n",
        "\r\n",
        "#Calculate the value of mathematical expression x*(x+5)^2 where x= 5 using lambda expression.\r\n",
        "\r\n",
        "math = (lambda x: x*(x+5)**2)(5)\r\n",
        "print(math)"
      ],
      "execution_count": 3,
      "outputs": [
        {
          "output_type": "stream",
          "text": [
            "500\n"
          ],
          "name": "stdout"
        }
      ]
    },
    {
      "cell_type": "code",
      "metadata": {
        "colab": {
          "base_uri": "https://localhost:8080/"
        },
        "id": "Q0DAegb0M95l",
        "outputId": "d178c023-21a3-4fec-8aa1-5fd60cee8a45"
      },
      "source": [
        "#Coding challenge 11\r\n",
        "\r\n",
        "#Coding challenge part 11\r\n",
        "\r\n",
        "\r\n",
        "#Consider a list in Python which includes prices of all the items in a store.\r\n",
        "\r\n",
        "#Build a function to discount the price of all the products by 10%.\r\n",
        "\r\n",
        "#Use map to apply the function to all the elements of the list so that all the product prices are discounted.\r\n",
        "\r\n",
        "itemsPrices = [100, 120, 55, 2001, 35, 25, 19]\r\n",
        "def disc(price):\r\n",
        "  price = price*.95\r\n",
        "  return price\r\n",
        "\r\n",
        "discountedprices = list(map(disc,itemsPrices))\r\n",
        "print (discountedprices)"
      ],
      "execution_count": 11,
      "outputs": [
        {
          "output_type": "stream",
          "text": [
            "[95.0, 114.0, 52.25, 1900.9499999999998, 33.25, 23.75, 18.05]\n"
          ],
          "name": "stdout"
        }
      ]
    }
  ]
}