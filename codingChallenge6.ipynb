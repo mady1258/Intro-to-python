{
  "nbformat": 4,
  "nbformat_minor": 0,
  "metadata": {
    "colab": {
      "name": "codingChallenge6.ipynb",
      "provenance": [],
      "authorship_tag": "ABX9TyOUFfqapYCS9zxuPnSzveko",
      "include_colab_link": true
    },
    "kernelspec": {
      "name": "python3",
      "display_name": "Python 3"
    }
  },
  "cells": [
    {
      "cell_type": "markdown",
      "metadata": {
        "id": "view-in-github",
        "colab_type": "text"
      },
      "source": [
        "<a href=\"https://colab.research.google.com/github/mady1258/Intro-to-python/blob/main/codingChallenge6.ipynb\" target=\"_parent\"><img src=\"https://colab.research.google.com/assets/colab-badge.svg\" alt=\"Open In Colab\"/></a>"
      ]
    },
    {
      "cell_type": "code",
      "metadata": {
        "id": "yJrnYSrRxbqx"
      },
      "source": [
        "#Solution to coding challenge 6\r\n",
        "\r\n",
        "\r\n",
        "    #writing data to the file\r\n",
        "     \r\n",
        "    f= open('demo.txt', 'w')\r\n",
        "    f.write(\"hello there\")\r\n",
        "    f.close()\r\n",
        "     \r\n",
        "    #reading data from the file\r\n",
        "     \r\n",
        "    f= open('demo.txt','r')\r\n",
        "    print(f.read())\r\n",
        "    f.close()\r\n",
        "     \r\n",
        "    #adding additional contents\r\n",
        "     \r\n",
        "    f= open('demo.txt','a')\r\n",
        "    f.write('\\n Hello again')\r\n",
        "    f.close()"
      ],
      "execution_count": null,
      "outputs": []
    }
  ]
}